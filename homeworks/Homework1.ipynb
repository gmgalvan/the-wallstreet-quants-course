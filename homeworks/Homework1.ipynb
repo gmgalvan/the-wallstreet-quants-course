{
 "cells": [
  {
   "cell_type": "markdown",
   "id": "38d7926d",
   "metadata": {},
   "source": [
    "# Homework 1\n",
    "This homework provides practical finance applications of the python concepts learned in this module. Note that for most of these problems, there will be better solutions using pandas which we will learn. However, they are still useful for practicing and learning Python fundamentals.\n",
    "\n",
    "Solutions will be released next class."
   ]
  },
  {
   "cell_type": "markdown",
   "id": "76205f94",
   "metadata": {},
   "source": [
    "## Problem 1 -  Computing Dollar Profits\n",
    "\n",
    "- The \"pos\" dictionary below represents the dollars initially invested in each ticker. The \"ret\" dictionary represents the returns of each ticker\n",
    "- Please complete the function \"compute_profit\"\n",
    "- compute_profit takes as input \"pos\" and \"ret\" and should return a new dictionary that maps each ticker to the total dollar profit of that ticker (=ticker's return x dollars invested in ticker)"
   ]
  },
  {
   "cell_type": "code",
   "execution_count": 1,
   "id": "509d1e58",
   "metadata": {},
   "outputs": [],
   "source": [
    "pos = {'AAPL':1000,'TSLA':500,'BAC':-250,'GS':1200}\n",
    "ret = {'AAPL':-0.01,'TSLA':0.05,'BAC':0.01,'GS':0.03}\n",
    "\n",
    "def compute_profit(pos,ret):\n",
    "    profit={ticker:pos[ticker]*ret[ticker] for ticker in pos}\n",
    "    # fill out the body here\n",
    "    # return a dict profit with keys=tickers and values=dollar profits\n",
    "    return profit"
   ]
  },
  {
   "cell_type": "code",
   "execution_count": 2,
   "id": "66af1ed4-4c32-4fc4-b8b8-6ea1fcd5b03b",
   "metadata": {},
   "outputs": [
    {
     "data": {
      "text/plain": [
       "{'AAPL': -10.0, 'TSLA': 25.0, 'BAC': -2.5, 'GS': 36.0}"
      ]
     },
     "execution_count": 2,
     "metadata": {},
     "output_type": "execute_result"
    }
   ],
   "source": [
    "compute_profit(pos,ret)"
   ]
  },
  {
   "cell_type": "markdown",
   "id": "573d1dd6",
   "metadata": {},
   "source": [
    "## Problem 2 - Performance Stats\n",
    "- \"rets\" variable below is a list containing randomly generated, hypothetical daily returns\n",
    "- Please complete the function \"compute_stats\"\n",
    "- compute_stats takes as input rets and returns a new dictionary containing performance stats with (key:values) as specified below\n",
    "    1. \"avg\": average daily return\n",
    "    2. \"hit_rate\": percent of returns which are positive\n",
    "    3. \"max_ret\": max daily return"
   ]
  },
  {
   "cell_type": "code",
   "execution_count": 5,
   "id": "0c2d8344",
   "metadata": {},
   "outputs": [],
   "source": [
    "# Generate random returns. \n",
    "# Don't worry about how to generate these for now.\n",
    "import numpy as np\n",
    "np.random.seed(2)\n",
    "rets = list(np.random.normal(0, 0.1/np.sqrt(252), 252))"
   ]
  },
  {
   "cell_type": "code",
   "execution_count": 17,
   "id": "4a8d8e26",
   "metadata": {},
   "outputs": [],
   "source": [
    "def compute_stats(rets):\n",
    "    rets = np.array(rets)  # ensure it's a NumPy array\n",
    "    hit_rate = np.mean(rets > 0)\n",
    "    stats = {\n",
    "        \"avg\": np.mean(rets > 0),\n",
    "        \"hit_rate\": hit_rate * 100,\n",
    "        \"max_ret\": np.max(rets)\n",
    "    }\n",
    "    # fill out the body here\n",
    "    # return a dict stats with keys avg, hit_rate and max_ret\n",
    "    return stats"
   ]
  },
  {
   "cell_type": "code",
   "execution_count": 18,
   "id": "11f37d3c-ef2a-436f-8068-2fe21ae1c86a",
   "metadata": {},
   "outputs": [
    {
     "data": {
      "text/plain": [
       "{'avg': np.float64(0.49206349206349204),\n",
       " 'hit_rate': np.float64(49.2063492063492),\n",
       " 'max_ret': np.float64(0.025882330705223864)}"
      ]
     },
     "execution_count": 18,
     "metadata": {},
     "output_type": "execute_result"
    }
   ],
   "source": [
    "compute_stats(rets)"
   ]
  },
  {
   "cell_type": "markdown",
   "id": "dca0dae2",
   "metadata": {},
   "source": [
    "## Problem 3 - Signal Analysis\n",
    "- \"rets\" variable below is a list containing randomly generated, hypothetical daily returns\n",
    "- \"signal\" variable below represents a daily hypothetical signal that could be predictive of \"rets\"\n",
    "- Please complete the function \"analyze_signal\"\n",
    "- analyze_signal takes as input rets and signal and returns a new dictionary with (key:values) as specified below\n",
    "    1. \"pos_ret\": average daily return when the signal is > 1\n",
    "    2. \"neg_ret\": average daily return when the signal is < -1\n",
    "    3. \"spread\":pos_ret - neg_ret\n",
    "   \n",
    "Hint: Look up and use the python \"range\" function"
   ]
  },
  {
   "cell_type": "code",
   "execution_count": 19,
   "id": "116dc54e",
   "metadata": {},
   "outputs": [],
   "source": [
    "# Generate random returns and a signal.\n",
    "# Don't worry about how to generate these for now.\n",
    "import numpy as np \n",
    "np.random.seed(2)\n",
    "rets = list(np.random.normal(0, 0.1/np.sqrt(252), 252))\n",
    "signal = list(np.random.normal(0,1,252))"
   ]
  },
  {
   "cell_type": "code",
   "execution_count": 21,
   "id": "3957eb67",
   "metadata": {},
   "outputs": [],
   "source": [
    "def analyze_signal(rets, signal):\n",
    "    rets = np.array(rets)\n",
    "    signal = np.array(signal)\n",
    "\n",
    "    # Boolean masks\n",
    "    pos_mask = signal > 1\n",
    "    neg_mask = signal < -1\n",
    "\n",
    "    # Calculate average returns where signal is strong\n",
    "    pos_ret = np.mean(rets[pos_mask]) if np.any(pos_mask) else 0.0\n",
    "    neg_ret = np.mean(rets[neg_mask]) if np.any(neg_mask) else 0.0\n",
    "    spread = pos_ret - neg_ret\n",
    "\n",
    "    analysis = {\n",
    "        \"pos_ret\": pos_ret,\n",
    "        \"neg_ret\": neg_ret,\n",
    "        \"spread\": spread\n",
    "    }\n",
    "    return analysis"
   ]
  },
  {
   "cell_type": "code",
   "execution_count": 22,
   "id": "c0c07508-f0b8-4bae-84fc-8fa570dcba0b",
   "metadata": {},
   "outputs": [
    {
     "data": {
      "text/plain": [
       "{'pos_ret': np.float64(-0.0006927951396076216),\n",
       " 'neg_ret': np.float64(-0.0007529717813923456),\n",
       " 'spread': np.float64(6.0176641784724e-05)}"
      ]
     },
     "execution_count": 22,
     "metadata": {},
     "output_type": "execute_result"
    }
   ],
   "source": [
    "analyze_signal(rets, signal)"
   ]
  },
  {
   "cell_type": "code",
   "execution_count": null,
   "id": "0903355d-070f-4668-83c1-0c9a9f474e23",
   "metadata": {},
   "outputs": [],
   "source": []
  }
 ],
 "metadata": {
  "kernelspec": {
   "display_name": "Python 3 (ipykernel)",
   "language": "python",
   "name": "python3"
  },
  "language_info": {
   "codemirror_mode": {
    "name": "ipython",
    "version": 3
   },
   "file_extension": ".py",
   "mimetype": "text/x-python",
   "name": "python",
   "nbconvert_exporter": "python",
   "pygments_lexer": "ipython3",
   "version": "3.12.9"
  }
 },
 "nbformat": 4,
 "nbformat_minor": 5
}
