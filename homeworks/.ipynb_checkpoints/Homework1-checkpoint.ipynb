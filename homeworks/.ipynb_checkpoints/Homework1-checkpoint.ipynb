{
 "cells": [
  {
   "cell_type": "markdown",
   "id": "e7af90f5",
   "metadata": {},
   "source": [
    "# 📊 Finance Homework 1 - Beautiful Notes 💼\n",
    "\n",
    "This notebook contains solutions to the finance homework problems along with detailed explanations and formulas."
   ]
  },
  {
   "cell_type": "markdown",
   "id": "3d8662e8",
   "metadata": {},
   "source": [
    "## Problem 1: Computing Dollar Profits 💰\n",
    "\n",
    "- The \"pos\" dictionary below represents the dollars initially invested in each ticker. The \"ret\" dictionary represents the returns of each ticker\n",
    "- Please complete the function \"compute_profit\"\n",
    "- compute_profit takes as input \"pos\" and \"ret\" and should return a new dictionary that maps each ticker to the total dollar profit of that ticker (=ticker's return x dollars invested in ticker)\n",
    "\n",
    "### Concept Overview\n",
    "In finance, calculating the dollar profit or loss for each position is fundamental to portfolio management. This calculation helps us understand how much actual money we've made or lost on each investment.\n",
    "\n",
    "### The Formula\n",
    "For each position, we calculate:\n",
    "\n",
    "$$\\text{Dollar Profit} = \\text{Position Size} \\times \\text{Return}$$\n",
    "\n",
    "### Visual Explanation\n",
    "```\n",
    "Position    Return    Dollar Profit\n",
    "$1000       -1%       $1000 × (-0.01) = -$10    📉\n",
    "$500        +5%       $500 × (0.05) = $25       📈\n",
    "-$250       +1%       -$250 × (0.01) = -$2.5    📉\n",
    "$1200       +3%       $1200 × (0.03) = $36      📈\n",
    "```\n",
    "\n",
    "### ✨ Interesting Finance Note\n",
    "For short positions (like BAC with -$250), a positive return results in a loss! This is because when you short a stock, you actually want the price to go down. It's like betting against the stock."
   ]
  },
  {
   "cell_type": "code",
   "execution_count": 1,
   "id": "43c223de",
   "metadata": {},
   "outputs": [],
   "source": [
    "pos = {'AAPL':1000,'TSLA':500,'BAC':-250,'GS':1200}\n",
    "ret = {'AAPL':-0.01,'TSLA':0.05,'BAC':0.01,'GS':0.03}\n",
    "\n",
    "def compute_profit(pos, ret):\n",
    "    profit = {}\n",
    "    for key in pos:  # Iterate through each ticker\n",
    "        profit[key] = pos[key] * ret[key]  # Calculate profit for each position\n",
    "    return profit"
   ]
  },
  {
   "cell_type": "code",
   "execution_count": 2,
   "id": "265f4266",
   "metadata": {},
   "outputs": [
    {
     "data": {
      "text/plain": [
       "{'AAPL': -10.0, 'TSLA': 25.0, 'BAC': -2.5, 'GS': 36.0}"
      ]
     },
     "execution_count": 2,
     "metadata": {},
     "output_type": "execute_result"
    }
   ],
   "source": [
    "# Let's run the function and see the results\n",
    "profits = compute_profit(pos, ret)\n",
    "profits"
   ]
  },
  {
   "cell_type": "markdown",
   "id": "320b19fc",
   "metadata": {},
   "source": [
    "## Problem 2: Performance Statistics 📈\n",
    "\n",
    "- \"rets\" variable below is a list containing randomly generated, hypothetical daily returns\n",
    "- Please complete the function \"compute_stats\"\n",
    "- compute_stats takes as input rets and returns a new dictionary containing performance stats with (key:values) as specified below\n",
    "    1. \"avg\": average daily return\n",
    "    2. \"hit_rate\": percent of returns which are positive\n",
    "    3. \"max_ret\": max daily return\n",
    "\n",
    "### Concept Overview\n",
    "Performance statistics help investors evaluate the quality and consistency of returns over time. These metrics are crucial for comparing different investment strategies.\n",
    "\n",
    "### Key Formulas\n",
    "\n",
    "1. **Average Daily Return** ⚖️\n",
    "   $$\\bar{r} = \\frac{1}{n} \\sum_{i=1}^{n} r_i$$\n",
    "\n",
    "2. **Hit Rate** 🎯\n",
    "   $$\\text{Hit Rate} = \\frac{\\text{Number of Positive Returns}}{\\text{Total Number of Returns}} \\times 100\\%$$\n",
    "\n",
    "3. **Maximum Return** 🚀\n",
    "   $$\\text{Max Return} = \\max(r_1, r_2, ..., r_n)$$\n",
    "\n",
    "### ✨ Interesting Finance Note\n",
    "The hit rate is a better measure of consistency than the average return. A strategy with a 55% hit rate but small average return might be more reliable than one with a 40% hit rate but occasionally large returns."
   ]
  },
  {
   "cell_type": "code",
   "execution_count": 3,
   "id": "be449f35",
   "metadata": {},
   "outputs": [],
   "source": [
    "# Generate random returns. \n",
    "# Don't worry about how to generate these for now.\n",
    "import numpy as np\n",
    "np.random.seed(2)\n",
    "rets = list(np.random.normal(0, 0.1/np.sqrt(252), 252))"
   ]
  },
  {
   "cell_type": "code",
   "execution_count": 4,
   "id": "5b7cfa35",
   "metadata": {},
   "outputs": [],
   "source": [
    "def compute_stats(rets):\n",
    "    stats = {}\n",
    "    \n",
    "    avg = 0\n",
    "    hit_rate = 0\n",
    "    max_ret = rets[0]\n",
    "    \n",
    "    for ret in rets:\n",
    "        avg += ret  # Sum up all returns\n",
    "        \n",
    "        if ret > 0:\n",
    "            hit_rate += 1  # Count positive returns\n",
    "        \n",
    "        if ret > max_ret:\n",
    "            max_ret = ret  # Find maximum return\n",
    "            \n",
    "    stats['avg'] = avg / len(rets)  # Calculate average\n",
    "    stats['hit_rate'] = hit_rate / len(rets)  # Calculate hit rate\n",
    "    stats['max_ret'] = max_ret\n",
    "    return stats"
   ]
  },
  {
   "cell_type": "code",
   "execution_count": 5,
   "id": "0e794c5f",
   "metadata": {},
   "outputs": [
    {
     "data": {
      "text/plain": [
       "{'avg': np.float64(-0.00012053243427670061),\n",
       " 'hit_rate': 0.49206349206349204,\n",
       " 'max_ret': np.float64(0.025882330705223864)}"
      ]
     },
     "execution_count": 5,
     "metadata": {},
     "output_type": "execute_result"
    }
   ],
   "source": [
    "# Let's calculate the performance statistics\n",
    "performance = compute_stats(rets)\n",
    "performance"
   ]
  },
  {
   "cell_type": "markdown",
   "id": "7dd69c55",
   "metadata": {},
   "source": [
    "## Problem 3: Signal Analysis 📶\n",
    "- \"rets\" variable below is a list containing randomly generated, hypothetical daily returns\n",
    "- \"signal\" variable below represents a daily hypothetical signal that could be predictive of \"rets\"\n",
    "- Please complete the function \"analyze_signal\"\n",
    "- analyze_signal takes as input rets and signal and returns a new dictionary with (key:values) as specified below\n",
    "    1. \"pos_ret\": average daily return when the signal is > 1\n",
    "    2. \"neg_ret\": average daily return when the signal is < -1\n",
    "    3. \"spread\":pos_ret - neg_ret\n",
    "   \n",
    "Hint: Look up and use the python \"range\" function\n",
    "\n",
    "### Concept Overview\n",
    "In quantitative finance, we often analyze signals to see if they have predictive power for future returns. A good signal should help differentiate between investments that will perform well and those that won't.\n",
    "\n",
    "### Key Formulas\n",
    "\n",
    "1. **Positive Signal Return** 📈\n",
    "   $$\\text{Positive Signal Return} = \\frac{1}{n_{pos}} \\sum_{i: \\text{signal}_i > 1} r_i$$\n",
    "\n",
    "2. **Negative Signal Return** 📉\n",
    "   $$\\text{Negative Signal Return} = \\frac{1}{n_{neg}} \\sum_{i: \\text{signal}_i < -1} r_i$$\n",
    "\n",
    "3. **Signal Spread** ↔️\n",
    "   $$\\text{Spread} = \\text{Positive Signal Return} - \\text{Negative Signal Return}$$\n",
    "\n",
    "### Visual Explanation\n",
    "```\n",
    "If signal > 1:   We expect higher returns   ⬆️\n",
    "If signal < -1:  We expect lower returns    ⬇️\n",
    "\n",
    "Spread tells us how well our signal works!\n",
    "```\n",
    "\n",
    "### ✨ Interesting Finance Note\n",
    "Trading strategies often use thresholds (like >1 and <-1) to filter out noise in signals. This technique, called \"signal filtering,\" focuses only on the strongest signals which are more likely to predict future price movements."
   ]
  },
  {
   "cell_type": "code",
   "execution_count": 6,
   "id": "c48a0954",
   "metadata": {},
   "outputs": [],
   "source": [
    "# Generate random returns and a signal.\n",
    "# Don't worry about how to generate these for now.\n",
    "import numpy as np \n",
    "np.random.seed(2)\n",
    "rets = list(np.random.normal(0, 0.1/np.sqrt(252), 252))\n",
    "signal = list(np.random.normal(0,1,252))"
   ]
  },
  {
   "cell_type": "code",
   "execution_count": 7,
   "id": "ec6a90d5",
   "metadata": {},
   "outputs": [],
   "source": [
    "def analyze_signal(rets, signal):\n",
    "    analysis = {}\n",
    "    \n",
    "    pos_ret = 0\n",
    "    pos_ct = 0\n",
    "    neg_ret = 0\n",
    "    neg_ct = 0\n",
    "    \n",
    "    for idx in range(len(rets)):\n",
    "        \n",
    "        if signal[idx] > 1:  # Strong positive signal\n",
    "            pos_ct += 1\n",
    "            pos_ret += rets[idx]\n",
    "            \n",
    "        elif signal[idx] < -1:  # Strong negative signal\n",
    "            neg_ct += 1\n",
    "            neg_ret += rets[idx]\n",
    "    \n",
    "    # Calculate averages (with safety against division by zero)\n",
    "    analysis['pos_ret'] = pos_ret / pos_ct if pos_ct > 0 else 0\n",
    "    analysis['neg_ret'] = neg_ret / neg_ct if neg_ct > 0 else 0\n",
    "    analysis['spread'] = analysis['pos_ret'] - analysis['neg_ret']\n",
    "    return analysis"
   ]
  },
  {
   "cell_type": "code",
   "execution_count": 8,
   "id": "706cfe4e",
   "metadata": {},
   "outputs": [
    {
     "data": {
      "text/plain": [
       "{'pos_ret': np.float64(-0.0006927951396076218),\n",
       " 'neg_ret': np.float64(-0.0007529717813923455),\n",
       " 'spread': np.float64(6.017664178472378e-05)}"
      ]
     },
     "execution_count": 8,
     "metadata": {},
     "output_type": "execute_result"
    }
   ],
   "source": [
    "# Let's analyze the signal\n",
    "signal_analysis = analyze_signal(rets, signal)\n",
    "signal_analysis"
   ]
  },
  {
   "cell_type": "markdown",
   "id": "75ba73cf",
   "metadata": {},
   "source": [
    "## 🌟 Summary of Finance Concepts\n",
    "\n",
    "| Problem | Concept | Application |\n",
    "|---------|---------|-------------|\n",
    "| 1️⃣ | Dollar Profit | Portfolio accounting, P&L reporting |\n",
    "| 2️⃣ | Performance Stats | Strategy evaluation, risk management |\n",
    "| 3️⃣ | Signal Analysis | Algorithmic trading, alpha generation |\n",
    "\n",
    "Remember, these basic concepts are foundational to more advanced finance applications! 🚀"
   ]
  },
  {
   "cell_type": "code",
   "execution_count": null,
   "id": "41a96fef-1a48-4991-895e-adfae291f14a",
   "metadata": {},
   "outputs": [],
   "source": []
  }
 ],
 "metadata": {
  "kernelspec": {
   "display_name": "Python 3 (ipykernel)",
   "language": "python",
   "name": "python3"
  },
  "language_info": {
   "codemirror_mode": {
    "name": "ipython",
    "version": 3
   },
   "file_extension": ".py",
   "mimetype": "text/x-python",
   "name": "python",
   "nbconvert_exporter": "python",
   "pygments_lexer": "ipython3",
   "version": "3.12.10"
  }
 },
 "nbformat": 4,
 "nbformat_minor": 5
}
