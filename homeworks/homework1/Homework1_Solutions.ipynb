{
 "cells": [
  {
   "cell_type": "markdown",
   "id": "0c4f7d17",
   "metadata": {},
   "source": [
    "# Homework 1 Solutions"
   ]
  },
  {
   "cell_type": "markdown",
   "id": "a63963a4",
   "metadata": {},
   "source": [
    "## Problem 1 -  Computing Dollar Profits"
   ]
  },
  {
   "cell_type": "code",
   "execution_count": null,
   "id": "48ef445e",
   "metadata": {},
   "outputs": [],
   "source": [
    "pos = {'AAPL':1000,'TSLA':500,'BAC':-250,'GS':1200}\n",
    "ret = {'AAPL':-0.01,'TSLA':0.05,'BAC':0.01,'GS':0.03}\n",
    "\n",
    "def compute_profit(pos,ret):\n",
    "    profit={}\n",
    "    for key in pos:\n",
    "        profit[key]=pos[key]*ret[key]\n",
    "    return profit\n",
    "profit = compute_profit(pos,ret)"
   ]
  },
  {
   "cell_type": "markdown",
   "id": "20cbb716",
   "metadata": {},
   "source": [
    "## Problem 2 - Performance Stats"
   ]
  },
  {
   "cell_type": "code",
   "execution_count": null,
   "id": "73ef69ea",
   "metadata": {},
   "outputs": [],
   "source": [
    "# Generate random returns. \n",
    "# Don't worry about how to generate these for now.\n",
    "import numpy as np \n",
    "np.random.seed(2)\n",
    "rets = list(np.random.normal(0, 0.1/np.sqrt(252), 252))"
   ]
  },
  {
   "cell_type": "code",
   "execution_count": null,
   "id": "e085f9a2",
   "metadata": {},
   "outputs": [],
   "source": [
    "def compute_stats(rets):\n",
    "    stats = {}\n",
    "    \n",
    "    avg = 0\n",
    "    hit_rate = 0\n",
    "    max_ret = rets[0]\n",
    "    \n",
    "    for ret in rets:\n",
    "        avg+=ret\n",
    "        \n",
    "        if ret > 0:\n",
    "            hit_rate+=1\n",
    "        \n",
    "        if ret > max_ret:\n",
    "            max_ret = ret\n",
    "            \n",
    "    stats['avg'] = avg / len(rets)\n",
    "    stats['hit_rate'] = hit_rate / len(rets)\n",
    "    stats['max_ret'] = max_ret\n",
    "    return stats\n",
    "\n",
    "compute_stats(rets)"
   ]
  },
  {
   "cell_type": "markdown",
   "id": "c30b310f",
   "metadata": {},
   "source": [
    "## Problem 3 - Signal Analysis"
   ]
  },
  {
   "cell_type": "code",
   "execution_count": null,
   "id": "ba8ef7b5",
   "metadata": {},
   "outputs": [],
   "source": [
    "# Generate random returns and a signal.\n",
    "# Don't worry about how to generate these for now.\n",
    "import numpy as np \n",
    "np.random.seed(2)\n",
    "rets = list(np.random.normal(0, 0.1/np.sqrt(252), 252))\n",
    "signal = list(np.random.normal(0,1,252))"
   ]
  },
  {
   "cell_type": "code",
   "execution_count": null,
   "id": "12aecd4d",
   "metadata": {},
   "outputs": [],
   "source": [
    "def analyze_signal(rets,signal):\n",
    "    analysis = {}\n",
    "    \n",
    "    pos_ret = 0\n",
    "    pos_ct = 0\n",
    "    neg_ret = 0\n",
    "    neg_ct = 0\n",
    "    \n",
    "    for idx in range(len(rets)):\n",
    "        \n",
    "        if signal[idx] > 1:\n",
    "            pos_ct+=1\n",
    "            pos_ret+=rets[idx]\n",
    "            \n",
    "        elif signal[idx] < -1:\n",
    "            neg_ct+=1\n",
    "            neg_ret+=rets[idx]\n",
    "    \n",
    "    analysis['neg_ret'] = neg_ret / neg_ct\n",
    "    analysis['pos_ret'] = pos_ret / pos_ct \n",
    "    analysis['spread'] = analysis['pos_ret'] - analysis['neg_ret']\n",
    "    return analysis\n",
    "\n",
    "analyze_signal(rets,signal)"
   ]
  }
 ],
 "metadata": {
  "kernelspec": {
   "display_name": "Python 3",
   "language": "python",
   "name": "python3"
  },
  "language_info": {
   "codemirror_mode": {
    "name": "ipython",
    "version": 3
   },
   "file_extension": ".py",
   "mimetype": "text/x-python",
   "name": "python",
   "nbconvert_exporter": "python",
   "pygments_lexer": "ipython3",
   "version": "3.8.8"
  }
 },
 "nbformat": 4,
 "nbformat_minor": 5
}
