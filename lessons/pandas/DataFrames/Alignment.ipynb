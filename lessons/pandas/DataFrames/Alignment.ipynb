{
 "cells": [
  {
   "cell_type": "markdown",
   "metadata": {},
   "source": [
    "# DataFrame Alignment\n",
    "1. Arithmetic alignment between DataFrames\n",
    "2. Boolean alignment between DataFrames\n",
    "3. Arithmetic alignment with Series"
   ]
  },
  {
   "cell_type": "markdown",
   "metadata": {},
   "source": [
    "## Arithmetic Alignment"
   ]
  },
  {
   "cell_type": "code",
   "execution_count": null,
   "metadata": {},
   "outputs": [],
   "source": [
    "import pandas as pd\n",
    "\n",
    "index=['20201201','20201202','20201203','20201204']\n",
    "columns = ['AAPL','MSFT','TSLA','LULU']\n",
    "\n",
    "data=[[-0.01,0.03,0.05,0.005],\n",
    "      [0.015,0.005,-0.05,-0.0025],\n",
    "      [-0.025,0.0015,-0.02,0.01],\n",
    "      [-0.03,0.015,0.03,0.01]]\n",
    "\n",
    "df1=pd.DataFrame(data,index=index,columns=columns)\n",
    "df1"
   ]
  },
  {
   "cell_type": "code",
   "execution_count": null,
   "metadata": {},
   "outputs": [],
   "source": [
    "df2=-1.0*df1\n",
    "df2"
   ]
  },
  {
   "cell_type": "code",
   "execution_count": null,
   "metadata": {},
   "outputs": [],
   "source": [
    "df1+df2"
   ]
  },
  {
   "cell_type": "code",
   "execution_count": null,
   "metadata": {},
   "outputs": [],
   "source": [
    "# 2D list or NumPy array\n",
    "\n",
    "index=['20201201','20201202','20201203']\n",
    "columns = ['AAPL','MSFT']\n",
    "\n",
    "data = [[-0.005,0.01],\n",
    "        [-0.025,0.0075],\n",
    "        [-0.005,0.015]]\n",
    "df3=pd.DataFrame(data,index=index,columns=columns)\n",
    "df3"
   ]
  },
  {
   "cell_type": "code",
   "execution_count": null,
   "metadata": {},
   "outputs": [],
   "source": [
    "df1+df3"
   ]
  },
  {
   "cell_type": "code",
   "execution_count": null,
   "metadata": {},
   "outputs": [],
   "source": [
    "df1.add(df3,fill_value=0)\n",
    "# see also \"sub\",\"div\",\"mul\""
   ]
  },
  {
   "cell_type": "markdown",
   "metadata": {},
   "source": [
    "## Boolean Alignment"
   ]
  },
  {
   "cell_type": "code",
   "execution_count": null,
   "metadata": {},
   "outputs": [],
   "source": [
    "df1>df2"
   ]
  },
  {
   "cell_type": "code",
   "execution_count": null,
   "metadata": {},
   "outputs": [],
   "source": [
    "(df1>0) & (df2>0)"
   ]
  },
  {
   "cell_type": "code",
   "execution_count": null,
   "metadata": {},
   "outputs": [],
   "source": [
    "(df1>0) | (df2>0)"
   ]
  },
  {
   "cell_type": "markdown",
   "metadata": {},
   "source": [
    "## Operations b/w a Series and DataFrame are well-defined"
   ]
  },
  {
   "cell_type": "code",
   "execution_count": null,
   "metadata": {},
   "outputs": [],
   "source": [
    "df1"
   ]
  },
  {
   "cell_type": "code",
   "execution_count": null,
   "metadata": {},
   "outputs": [],
   "source": [
    "# By default arithmetic matches the index of the series on the dataframe's columns\n",
    "ser = pd.Series({'AAPL':100,'MSFT':200,'TSLA':50})\n",
    "df1*ser"
   ]
  },
  {
   "cell_type": "code",
   "execution_count": null,
   "metadata": {},
   "outputs": [],
   "source": [
    "ser = pd.Series({'20201201':100,'20201203':200})\n",
    "df1.mul(ser,axis=0)"
   ]
  },
  {
   "cell_type": "code",
   "execution_count": null,
   "metadata": {},
   "outputs": [],
   "source": []
  }
 ],
 "metadata": {
  "kernelspec": {
   "display_name": "Python 3",
   "language": "python",
   "name": "python3"
  },
  "language_info": {
   "codemirror_mode": {
    "name": "ipython",
    "version": 3
   },
   "file_extension": ".py",
   "mimetype": "text/x-python",
   "name": "python",
   "nbconvert_exporter": "python",
   "pygments_lexer": "ipython3",
   "version": "3.8.8"
  }
 },
 "nbformat": 4,
 "nbformat_minor": 4
}
