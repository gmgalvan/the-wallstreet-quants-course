{
 "cells": [
  {
   "cell_type": "markdown",
   "metadata": {},
   "source": [
    "# Series Methods for Data Analysis\n",
    "1. Arithmetic & boolean operations with scalars operates element-wise\n",
    "2. Numpy universal functions operate element-wise as they do with arrays\n",
    "3. Series map - apply any function element-wise\n",
    "4. Series have many built in methods similar to numpy arrays"
   ]
  },
  {
   "cell_type": "markdown",
   "metadata": {},
   "source": [
    "#### Arithmetic & boolean operations"
   ]
  },
  {
   "cell_type": "code",
   "execution_count": 1,
   "metadata": {},
   "outputs": [
    {
     "name": "stdout",
     "output_type": "stream",
     "text": [
      "AAPL   -0.010\n",
      "MSFT   -0.020\n",
      "TSLA    0.015\n",
      "LULU   -0.005\n",
      "dtype: float64\n"
     ]
    }
   ],
   "source": [
    "# Series construction w/ dict\n",
    "import pandas as pd \n",
    "\n",
    "ret_dict={'AAPL':-0.01,'MSFT':-0.02,'TSLA':0.015,'LULU':-0.005}\n",
    "ser=pd.Series(ret_dict)\n",
    "print (ser)"
   ]
  },
  {
   "cell_type": "code",
   "execution_count": 2,
   "metadata": {},
   "outputs": [
    {
     "data": {
      "text/plain": [
       "AAPL   -0.015\n",
       "MSFT   -0.025\n",
       "TSLA    0.010\n",
       "LULU   -0.010\n",
       "dtype: float64"
      ]
     },
     "execution_count": 2,
     "metadata": {},
     "output_type": "execute_result"
    }
   ],
   "source": [
    "# scalar arithmetic is much easier with a series\n",
    "mkt_ret=0.005\n",
    "ser - mkt_ret"
   ]
  },
  {
   "cell_type": "code",
   "execution_count": 3,
   "metadata": {},
   "outputs": [
    {
     "data": {
      "text/plain": [
       "{'AAPL': -0.015, 'MSFT': -0.025, 'TSLA': 0.009999999999999998}"
      ]
     },
     "execution_count": 3,
     "metadata": {},
     "output_type": "execute_result"
    }
   ],
   "source": [
    "# scalar arithmetic is very hard with a dict...need to use a loop\n",
    "mkt_ret=0.005\n",
    "ret_dict={'AAPL':-0.01,'MSFT':-0.02,'TSLA':0.015}\n",
    "\n",
    "dict_excess={}\n",
    "for key in ret_dict:\n",
    "    dict_excess[key]=ret_dict[key]-mkt_ret\n",
    "dict_excess"
   ]
  },
  {
   "cell_type": "code",
   "execution_count": 4,
   "metadata": {},
   "outputs": [
    {
     "data": {
      "text/plain": [
       "AAPL    False\n",
       "MSFT    False\n",
       "TSLA     True\n",
       "LULU    False\n",
       "dtype: bool"
      ]
     },
     "execution_count": 4,
     "metadata": {},
     "output_type": "execute_result"
    }
   ],
   "source": [
    "# boolean logic operates element-wise\n",
    "ser > 0 "
   ]
  },
  {
   "cell_type": "markdown",
   "metadata": {},
   "source": [
    "#### Numpy universal functions operate element-wise as they do with arrays"
   ]
  },
  {
   "cell_type": "code",
   "execution_count": 5,
   "metadata": {},
   "outputs": [
    {
     "data": {
      "text/plain": [
       "AAPL   -1.0\n",
       "MSFT   -1.0\n",
       "TSLA    1.0\n",
       "LULU   -1.0\n",
       "dtype: float64"
      ]
     },
     "execution_count": 5,
     "metadata": {},
     "output_type": "execute_result"
    }
   ],
   "source": [
    "# get sign of returns\n",
    "import numpy as np \n",
    "np.sign(ser)"
   ]
  },
  {
   "cell_type": "markdown",
   "metadata": {},
   "source": [
    "#### Series map - apply any function element-wise"
   ]
  },
  {
   "cell_type": "code",
   "execution_count": 6,
   "metadata": {},
   "outputs": [
    {
     "data": {
      "text/plain": [
       "AAPL    0.005\n",
       "MSFT    0.005\n",
       "TSLA    0.015\n",
       "LULU    0.005\n",
       "dtype: float64"
      ]
     },
     "execution_count": 6,
     "metadata": {},
     "output_type": "execute_result"
    }
   ],
   "source": [
    "# map\n",
    "def thresh(x):\n",
    "    if x > mkt_ret:\n",
    "        return x\n",
    "    else:\n",
    "        return mkt_ret\n",
    "\n",
    "ser.map(thresh)"
   ]
  },
  {
   "cell_type": "code",
   "execution_count": 7,
   "metadata": {},
   "outputs": [
    {
     "data": {
      "text/plain": [
       "AAPL    0.005\n",
       "MSFT    0.005\n",
       "TSLA    0.015\n",
       "LULU    0.005\n",
       "dtype: float64"
      ]
     },
     "execution_count": 7,
     "metadata": {},
     "output_type": "execute_result"
    }
   ],
   "source": [
    "ser.map(lambda x: x if x > mkt_ret else mkt_ret)"
   ]
  },
  {
   "cell_type": "markdown",
   "metadata": {},
   "source": [
    "#### Series have many built in methods similar to numpy arrays"
   ]
  },
  {
   "cell_type": "code",
   "execution_count": 8,
   "metadata": {},
   "outputs": [
    {
     "name": "stdout",
     "output_type": "stream",
     "text": [
      "-0.005\n",
      "-0.02\n",
      "0.014719601443879744\n"
     ]
    }
   ],
   "source": [
    "# average Return\n",
    "print (ser.mean())\n",
    "\n",
    "# min return\n",
    "print (ser.min())\n",
    "\n",
    "# standard deviation\n",
    "print (ser.std())"
   ]
  },
  {
   "cell_type": "code",
   "execution_count": 9,
   "metadata": {},
   "outputs": [
    {
     "data": {
      "text/plain": [
       "np.float64(-0.005)"
      ]
     },
     "execution_count": 9,
     "metadata": {},
     "output_type": "execute_result"
    }
   ],
   "source": [
    "## Do NOT do this for the average\n",
    "## Whenever you find yourself writing a loop, check if there's a better way\n",
    "\n",
    "avg=0\n",
    "for x in ser.values:\n",
    "    avg+=x\n",
    "avg=avg/len(ser)\n",
    "avg"
   ]
  },
  {
   "cell_type": "code",
   "execution_count": 10,
   "metadata": {},
   "outputs": [
    {
     "data": {
      "text/plain": [
       "AAPL    2.0\n",
       "MSFT    1.0\n",
       "TSLA    4.0\n",
       "LULU    3.0\n",
       "dtype: float64"
      ]
     },
     "execution_count": 10,
     "metadata": {},
     "output_type": "execute_result"
    }
   ],
   "source": [
    "# return the ascending order rank of items\n",
    "ser.rank()"
   ]
  },
  {
   "cell_type": "code",
   "execution_count": 11,
   "metadata": {},
   "outputs": [
    {
     "data": {
      "text/plain": [
       "count    4.00000\n",
       "mean    -0.00500\n",
       "std      0.01472\n",
       "min     -0.02000\n",
       "25%     -0.01250\n",
       "50%     -0.00750\n",
       "75%      0.00000\n",
       "max      0.01500\n",
       "dtype: float64"
      ]
     },
     "execution_count": 11,
     "metadata": {},
     "output_type": "execute_result"
    }
   ],
   "source": [
    "# summary stats\n",
    "ser.describe()"
   ]
  },
  {
   "cell_type": "code",
   "execution_count": null,
   "metadata": {},
   "outputs": [],
   "source": []
  }
 ],
 "metadata": {
  "kernelspec": {
   "display_name": "Python 3 (ipykernel)",
   "language": "python",
   "name": "python3"
  },
  "language_info": {
   "codemirror_mode": {
    "name": "ipython",
    "version": 3
   },
   "file_extension": ".py",
   "mimetype": "text/x-python",
   "name": "python",
   "nbconvert_exporter": "python",
   "pygments_lexer": "ipython3",
   "version": "3.12.10"
  }
 },
 "nbformat": 4,
 "nbformat_minor": 4
}
