{
 "cells": [
  {
   "cell_type": "markdown",
   "metadata": {},
   "source": [
    "# Lists"
   ]
  },
  {
   "cell_type": "code",
   "execution_count": 1,
   "metadata": {},
   "outputs": [
    {
     "name": "stdout",
     "output_type": "stream",
     "text": [
      "['AAPL', 'BAC', 'XOM', 'LULU']\n",
      "<class 'list'>\n"
     ]
    }
   ],
   "source": [
    "# create a list using square brackets\n",
    "stocks = ['AAPL','BAC','XOM','LULU']\n",
    "print (stocks)\n",
    "print (type(stocks))"
   ]
  },
  {
   "cell_type": "code",
   "execution_count": 2,
   "metadata": {},
   "outputs": [
    {
     "name": "stdout",
     "output_type": "stream",
     "text": [
      "[0.01, -0.01, 0.02, 0.03]\n",
      "<class 'list'>\n"
     ]
    }
   ],
   "source": [
    "# lists can be of any data type\n",
    "returns = [0.01,-0.01,0.02,0.03]\n",
    "print (returns)\n",
    "print (type(returns))"
   ]
  },
  {
   "cell_type": "code",
   "execution_count": 3,
   "metadata": {},
   "outputs": [
    {
     "name": "stdout",
     "output_type": "stream",
     "text": [
      "AAPL\n",
      "XOM\n",
      "LULU\n"
     ]
    }
   ],
   "source": [
    "# Retrieving values\n",
    "\n",
    "# positive indexing\n",
    "print (stocks[0])\n",
    "print (stocks[2])\n",
    "print (stocks[3])"
   ]
  },
  {
   "cell_type": "code",
   "execution_count": 4,
   "metadata": {},
   "outputs": [
    {
     "name": "stdout",
     "output_type": "stream",
     "text": [
      "LULU\n",
      "XOM\n",
      "AAPL\n"
     ]
    }
   ],
   "source": [
    "# Negative indexing\n",
    "print (stocks[-1])\n",
    "print (stocks[-2])\n",
    "print (stocks[-4])"
   ]
  },
  {
   "cell_type": "code",
   "execution_count": 5,
   "metadata": {},
   "outputs": [
    {
     "name": "stdout",
     "output_type": "stream",
     "text": [
      "['BAC', 'XOM']\n",
      "['AAPL', 'BAC', 'XOM', 'LULU']\n",
      "['XOM', 'LULU']\n"
     ]
    }
   ],
   "source": [
    "# Index Range w/ Positives\n",
    "print (stocks[1:3])\n",
    "print (stocks[:4])\n",
    "print (stocks[2:])"
   ]
  },
  {
   "cell_type": "code",
   "execution_count": 6,
   "metadata": {},
   "outputs": [
    {
     "name": "stdout",
     "output_type": "stream",
     "text": [
      "['BAC', 'XOM']\n",
      "['BAC', 'XOM', 'LULU']\n",
      "['AAPL', 'BAC']\n"
     ]
    }
   ],
   "source": [
    "# Index Range w/ Negatives\n",
    "print (stocks[-3:-1])\n",
    "print (stocks[-3:])\n",
    "print (stocks[:-2])"
   ]
  },
  {
   "cell_type": "code",
   "execution_count": 7,
   "metadata": {},
   "outputs": [
    {
     "name": "stdout",
     "output_type": "stream",
     "text": [
      "False\n",
      "True\n"
     ]
    }
   ],
   "source": [
    "# check if an item exists \n",
    "print ('TSLA' in stocks) \n",
    "print ('AAPL' in stocks) "
   ]
  },
  {
   "cell_type": "code",
   "execution_count": 8,
   "metadata": {},
   "outputs": [
    {
     "name": "stdout",
     "output_type": "stream",
     "text": [
      "['MSFT', 'BAC', 'XOM', 'LULU']\n",
      "['MSFT', 'AAPL', 'BAC', 'XOM', 'LULU']\n"
     ]
    }
   ],
   "source": [
    "# changing values\n",
    "stocks[0]='MSFT'\n",
    "print (stocks)\n",
    "\n",
    "# inserting values\n",
    "stocks.insert(1,'AAPL')\n",
    "print (stocks)"
   ]
  },
  {
   "cell_type": "code",
   "execution_count": 9,
   "metadata": {},
   "outputs": [
    {
     "name": "stdout",
     "output_type": "stream",
     "text": [
      "['MSFT', 'AAPL', 'BAC', 'XOM', 'LULU', 'TWTR']\n"
     ]
    }
   ],
   "source": [
    "stocks.append('TWTR')\n",
    "print (stocks)"
   ]
  },
  {
   "cell_type": "code",
   "execution_count": 10,
   "metadata": {},
   "outputs": [
    {
     "name": "stdout",
     "output_type": "stream",
     "text": [
      "['MSFT', 'BAC', 'XOM', 'LULU', 'TWTR']\n"
     ]
    }
   ],
   "source": [
    "stocks.remove('AAPL')\n",
    "print (stocks)"
   ]
  },
  {
   "cell_type": "code",
   "execution_count": 11,
   "metadata": {},
   "outputs": [
    {
     "name": "stdout",
     "output_type": "stream",
     "text": [
      "['MSFT', 'BAC', 'XOM', 'LULU']\n"
     ]
    }
   ],
   "source": [
    "stocks.pop()\n",
    "print (stocks)"
   ]
  },
  {
   "cell_type": "code",
   "execution_count": 12,
   "metadata": {},
   "outputs": [
    {
     "name": "stdout",
     "output_type": "stream",
     "text": [
      "['AAPL', 'MSFT', 'FB', 'BAC', 'JPM', 'GS']\n"
     ]
    }
   ],
   "source": [
    "# combining lists\n",
    "tech = ['AAPL','MSFT','FB']\n",
    "fin = ['BAC','JPM','GS']\n",
    "both = tech + fin\n",
    "print (both)"
   ]
  },
  {
   "cell_type": "code",
   "execution_count": 13,
   "metadata": {},
   "outputs": [
    {
     "data": {
      "text/plain": [
       "['AAPL', 'BAC', 'FB', 'GS', 'JPM', 'MSFT']"
      ]
     },
     "execution_count": 13,
     "metadata": {},
     "output_type": "execute_result"
    }
   ],
   "source": [
    "# tab completion\n",
    "both.sort()\n",
    "both"
   ]
  },
  {
   "cell_type": "code",
   "execution_count": 14,
   "metadata": {},
   "outputs": [
    {
     "data": {
      "text/plain": [
       "\u001b[31mSignature:\u001b[39m both.sort(*, key=\u001b[38;5;28;01mNone\u001b[39;00m, reverse=\u001b[38;5;28;01mFalse\u001b[39;00m)\n",
       "\u001b[31mDocstring:\u001b[39m\n",
       "Sort the list in ascending order and return None.\n",
       "\n",
       "The sort is in-place (i.e. the list itself is modified) and stable (i.e. the\n",
       "order of two equal elements is maintained).\n",
       "\n",
       "If a key function is given, apply it once to each list item and sort them,\n",
       "ascending or descending, according to their function values.\n",
       "\n",
       "The reverse flag can be set to sort in descending order.\n",
       "\u001b[31mType:\u001b[39m      builtin_function_or_method"
      ]
     },
     "metadata": {},
     "output_type": "display_data"
    }
   ],
   "source": [
    "both.sort?"
   ]
  },
  {
   "cell_type": "code",
   "execution_count": null,
   "metadata": {},
   "outputs": [],
   "source": []
  }
 ],
 "metadata": {
  "kernelspec": {
   "display_name": "Python 3 (ipykernel)",
   "language": "python",
   "name": "python3"
  },
  "language_info": {
   "codemirror_mode": {
    "name": "ipython",
    "version": 3
   },
   "file_extension": ".py",
   "mimetype": "text/x-python",
   "name": "python",
   "nbconvert_exporter": "python",
   "pygments_lexer": "ipython3",
   "version": "3.12.10"
  }
 },
 "nbformat": 4,
 "nbformat_minor": 4
}
