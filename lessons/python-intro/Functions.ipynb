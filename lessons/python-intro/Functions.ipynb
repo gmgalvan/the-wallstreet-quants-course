{
 "cells": [
  {
   "cell_type": "markdown",
   "metadata": {},
   "source": [
    "# Functions"
   ]
  },
  {
   "cell_type": "code",
   "execution_count": 1,
   "metadata": {},
   "outputs": [
    {
     "name": "stdout",
     "output_type": "stream",
     "text": [
      "2\n",
      "6\n"
     ]
    }
   ],
   "source": [
    "# create functions using the def keyword\n",
    "# function arguments are specified in () above\n",
    "# \"return\" keyword specifies function output\n",
    "    \n",
    "def add_2(x):     \n",
    "    result = x + 2\n",
    "    return result\n",
    "\n",
    "print (add_2(0))\n",
    "print (add_2(4))"
   ]
  },
  {
   "cell_type": "code",
   "execution_count": 2,
   "metadata": {},
   "outputs": [
    {
     "ename": "IndentationError",
     "evalue": "expected an indented block after function definition on line 2 (1090912924.py, line 3)",
     "output_type": "error",
     "traceback": [
      "  \u001b[36mCell\u001b[39m\u001b[36m \u001b[39m\u001b[32mIn[2]\u001b[39m\u001b[32m, line 3\u001b[39m\n\u001b[31m    \u001b[39m\u001b[31mresult = x + 2\u001b[39m\n    ^\n\u001b[31mIndentationError\u001b[39m\u001b[31m:\u001b[39m expected an indented block after function definition on line 2\n"
     ]
    }
   ],
   "source": [
    "# body of function should be indented with tab\n",
    "def add_2(x):     \n",
    "result = x + 2\n",
    "return result\n",
    "\n",
    "print (add_2(0))\n",
    "print (add_2(4))"
   ]
  },
  {
   "cell_type": "code",
   "execution_count": 3,
   "metadata": {},
   "outputs": [
    {
     "name": "stdout",
     "output_type": "stream",
     "text": [
      "1.0\n",
      "1.6666666666666667\n",
      "0.6\n",
      "1.6666666666666667\n"
     ]
    }
   ],
   "source": [
    "# functions can have multiple arguments\n",
    "\n",
    "def divide(x,y):     \n",
    "    result = x/y\n",
    "    return result\n",
    "\n",
    "print (divide(2,2))\n",
    "print (divide(5,3))\n",
    "print (divide(3,5))\n",
    "print (divide(y=3,x=5))"
   ]
  },
  {
   "cell_type": "code",
   "execution_count": 4,
   "metadata": {},
   "outputs": [
    {
     "name": "stdout",
     "output_type": "stream",
     "text": [
      "4\n",
      "6\n",
      "8\n"
     ]
    }
   ],
   "source": [
    "# function arguments can have defaults \n",
    "\n",
    "def multiply(x,y=2,z=1):\n",
    "    result = x*y*z\n",
    "    return result\n",
    "\n",
    "print(multiply(2))\n",
    "print(multiply(2,3))\n",
    "print(multiply(2,z=2))"
   ]
  },
  {
   "cell_type": "code",
   "execution_count": 5,
   "metadata": {},
   "outputs": [
    {
     "name": "stdout",
     "output_type": "stream",
     "text": [
      "True\n"
     ]
    }
   ],
   "source": [
    "# function arguments can be of many types\n",
    "\n",
    "def in_list_or(a_list, item1, item2):\n",
    "    result = (item1 in a_list) or (item2 in a_list)    \n",
    "    return result\n",
    "\n",
    "print (in_list_or(['XOM','GS','WMT'],'XOM','AAPL'))"
   ]
  },
  {
   "cell_type": "code",
   "execution_count": 6,
   "metadata": {},
   "outputs": [
    {
     "ename": "TypeError",
     "evalue": "argument of type 'int' is not iterable",
     "output_type": "error",
     "traceback": [
      "\u001b[31m---------------------------------------------------------------------------\u001b[39m",
      "\u001b[31mTypeError\u001b[39m                                 Traceback (most recent call last)",
      "\u001b[36mCell\u001b[39m\u001b[36m \u001b[39m\u001b[32mIn[6]\u001b[39m\u001b[32m, line 1\u001b[39m\n\u001b[32m----> \u001b[39m\u001b[32m1\u001b[39m \u001b[43min_list_or\u001b[49m\u001b[43m(\u001b[49m\u001b[32;43m1\u001b[39;49m\u001b[43m,\u001b[49m\u001b[33;43m'\u001b[39;49m\u001b[33;43mXOM\u001b[39;49m\u001b[33;43m'\u001b[39;49m\u001b[43m,\u001b[49m\u001b[33;43m'\u001b[39;49m\u001b[33;43mAAPL\u001b[39;49m\u001b[33;43m'\u001b[39;49m\u001b[43m)\u001b[49m\n",
      "\u001b[36mCell\u001b[39m\u001b[36m \u001b[39m\u001b[32mIn[5]\u001b[39m\u001b[32m, line 4\u001b[39m, in \u001b[36min_list_or\u001b[39m\u001b[34m(a_list, item1, item2)\u001b[39m\n\u001b[32m      3\u001b[39m \u001b[38;5;28;01mdef\u001b[39;00m\u001b[38;5;250m \u001b[39m\u001b[34min_list_or\u001b[39m(a_list, item1, item2):\n\u001b[32m----> \u001b[39m\u001b[32m4\u001b[39m     result = (\u001b[43mitem1\u001b[49m\u001b[43m \u001b[49m\u001b[38;5;129;43;01min\u001b[39;49;00m\u001b[43m \u001b[49m\u001b[43ma_list\u001b[49m) \u001b[38;5;129;01mor\u001b[39;00m (item2 \u001b[38;5;129;01min\u001b[39;00m a_list)    \n\u001b[32m      5\u001b[39m     \u001b[38;5;28;01mreturn\u001b[39;00m result\n",
      "\u001b[31mTypeError\u001b[39m: argument of type 'int' is not iterable"
     ]
    }
   ],
   "source": [
    "in_list_or(1,'XOM','AAPL')"
   ]
  },
  {
   "cell_type": "code",
   "execution_count": 7,
   "metadata": {},
   "outputs": [
    {
     "data": {
      "text/plain": [
       "False"
      ]
     },
     "execution_count": 7,
     "metadata": {},
     "output_type": "execute_result"
    }
   ],
   "source": [
    "in_list_or('ABC','XOM','AAPL')"
   ]
  },
  {
   "cell_type": "code",
   "execution_count": null,
   "metadata": {},
   "outputs": [],
   "source": []
  },
  {
   "cell_type": "code",
   "execution_count": null,
   "metadata": {},
   "outputs": [],
   "source": []
  },
  {
   "cell_type": "code",
   "execution_count": null,
   "metadata": {},
   "outputs": [],
   "source": []
  }
 ],
 "metadata": {
  "kernelspec": {
   "display_name": "Python 3 (ipykernel)",
   "language": "python",
   "name": "python3"
  },
  "language_info": {
   "codemirror_mode": {
    "name": "ipython",
    "version": 3
   },
   "file_extension": ".py",
   "mimetype": "text/x-python",
   "name": "python",
   "nbconvert_exporter": "python",
   "pygments_lexer": "ipython3",
   "version": "3.12.10"
  }
 },
 "nbformat": 4,
 "nbformat_minor": 4
}
