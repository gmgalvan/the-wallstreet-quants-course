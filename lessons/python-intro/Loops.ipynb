{
 "cells": [
  {
   "cell_type": "markdown",
   "metadata": {},
   "source": [
    "# Loops\n",
    "## While Loops \n",
    "- Execute a set of statements as long as a boolean condition is True\n",
    "- Less commonly used than for loops"
   ]
  },
  {
   "cell_type": "code",
   "execution_count": 1,
   "metadata": {},
   "outputs": [
    {
     "name": "stdout",
     "output_type": "stream",
     "text": [
      "0\n",
      "1\n",
      "2\n",
      "3\n",
      "4\n"
     ]
    }
   ],
   "source": [
    "ct=0\n",
    "while (ct<5):\n",
    "    print (ct)\n",
    "    ct = ct + 1"
   ]
  },
  {
   "cell_type": "code",
   "execution_count": 2,
   "metadata": {},
   "outputs": [
    {
     "ename": "IndentationError",
     "evalue": "expected an indented block after 'while' statement on line 3 (4260419430.py, line 4)",
     "output_type": "error",
     "traceback": [
      "  \u001b[36mCell\u001b[39m\u001b[36m \u001b[39m\u001b[32mIn[2]\u001b[39m\u001b[32m, line 4\u001b[39m\n\u001b[31m    \u001b[39m\u001b[31mprint (ct)\u001b[39m\n    ^\n\u001b[31mIndentationError\u001b[39m\u001b[31m:\u001b[39m expected an indented block after 'while' statement on line 3\n"
     ]
    }
   ],
   "source": [
    "# must indent the body\n",
    "ct=0\n",
    "while (ct<5):\n",
    "print (ct)\n",
    "ct = ct + 1"
   ]
  },
  {
   "cell_type": "markdown",
   "metadata": {},
   "source": [
    "## For Loops \n",
    "- Iterate over data types like lists, dictionaries, strings, etc.\n",
    "- More common to use than while loop"
   ]
  },
  {
   "cell_type": "code",
   "execution_count": 3,
   "metadata": {},
   "outputs": [
    {
     "name": "stdout",
     "output_type": "stream",
     "text": [
      "AAPL US Equity\n",
      "XOM US Equity\n",
      "BAC US Equity\n",
      "WMT US Equity\n"
     ]
    }
   ],
   "source": [
    "# iterate through a list\n",
    "# must indent the body\n",
    "\n",
    "tickers = ['AAPL','XOM','BAC','WMT']\n",
    "for x in tickers:\n",
    "    print (x+' US Equity')"
   ]
  },
  {
   "cell_type": "code",
   "execution_count": 4,
   "metadata": {},
   "outputs": [
    {
     "name": "stdout",
     "output_type": "stream",
     "text": [
      "A\n",
      "A\n",
      "P\n",
      "L\n"
     ]
    }
   ],
   "source": [
    "# loop through a string\n",
    "for x in 'AAPL':    \n",
    "    print (x)"
   ]
  },
  {
   "cell_type": "code",
   "execution_count": 5,
   "metadata": {},
   "outputs": [
    {
     "name": "stdout",
     "output_type": "stream",
     "text": [
      "AAPL\n",
      "XOM\n",
      "BAC\n"
     ]
    }
   ],
   "source": [
    "# loop through a dictionary\n",
    "returns = {'AAPL':0.01,'XOM':-0.02,'BAC':0.05} \n",
    "\n",
    "for x in returns:\n",
    "    print (x)"
   ]
  },
  {
   "cell_type": "code",
   "execution_count": 6,
   "metadata": {},
   "outputs": [
    {
     "name": "stdout",
     "output_type": "stream",
     "text": [
      "0.01\n",
      "-0.02\n",
      "0.05\n"
     ]
    }
   ],
   "source": [
    "for x in returns:\n",
    "    print (returns[x])"
   ]
  },
  {
   "cell_type": "code",
   "execution_count": null,
   "metadata": {},
   "outputs": [],
   "source": []
  }
 ],
 "metadata": {
  "kernelspec": {
   "display_name": "Python 3 (ipykernel)",
   "language": "python",
   "name": "python3"
  },
  "language_info": {
   "codemirror_mode": {
    "name": "ipython",
    "version": 3
   },
   "file_extension": ".py",
   "mimetype": "text/x-python",
   "name": "python",
   "nbconvert_exporter": "python",
   "pygments_lexer": "ipython3",
   "version": "3.12.9"
  }
 },
 "nbformat": 4,
 "nbformat_minor": 4
}
