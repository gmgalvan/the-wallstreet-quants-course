{
 "cells": [
  {
   "cell_type": "markdown",
   "metadata": {},
   "source": [
    "# Strings"
   ]
  },
  {
   "cell_type": "code",
   "execution_count": 1,
   "metadata": {},
   "outputs": [
    {
     "name": "stdout",
     "output_type": "stream",
     "text": [
      "AAPL US Equity\n",
      "AAPL US Equity\n"
     ]
    }
   ],
   "source": [
    "# assignment - can use single or double quotes\n",
    "ticker = 'AAPL US Equity'\n",
    "ticker2 = \"AAPL US Equity\"\n",
    "\n",
    "print (ticker)\n",
    "print (ticker2)"
   ]
  },
  {
   "cell_type": "code",
   "execution_count": 2,
   "metadata": {},
   "outputs": [
    {
     "name": "stdout",
     "output_type": "stream",
     "text": [
      "<class 'str'>\n",
      "<class 'str'>\n"
     ]
    }
   ],
   "source": [
    "# again, python automatically infers the type\n",
    "print (type(ticker))\n",
    "print (type(ticker2))"
   ]
  },
  {
   "cell_type": "code",
   "execution_count": 8,
   "metadata": {},
   "outputs": [
    {
     "name": "stdout",
     "output_type": "stream",
     "text": [
      "2\n",
      "2011\n",
      "2011\n",
      "05\n",
      "01\n"
     ]
    }
   ],
   "source": [
    "# a string is an array: individual characters can be retreived\n",
    "dt = '20110501'\n",
    "print (dt[0]) # millennium\n",
    "print (dt[0:4]) # year\n",
    "print (dt[:4]) # year\n",
    "print (dt[4:6]) # month\n",
    "print (dt[6:9]) # day"
   ]
  },
  {
   "cell_type": "code",
   "execution_count": 9,
   "metadata": {},
   "outputs": [
    {
     "name": "stdout",
     "output_type": "stream",
     "text": [
      "2\n",
      "0\n",
      "1\n",
      "1\n",
      "0\n",
      "5\n",
      "0\n",
      "1\n"
     ]
    }
   ],
   "source": [
    "# string is an array: can loop through a string\n",
    "for x in dt:\n",
    "    print (x)"
   ]
  },
  {
   "cell_type": "code",
   "execution_count": 10,
   "metadata": {},
   "outputs": [
    {
     "name": "stdout",
     "output_type": "stream",
     "text": [
      "True\n",
      "False\n"
     ]
    }
   ],
   "source": [
    "# string contains\n",
    "print ('Equity' in ticker) # is an Equity?\n",
    "print ('JP Equity' in ticker) # is in from Japan?"
   ]
  },
  {
   "cell_type": "code",
   "execution_count": 11,
   "metadata": {},
   "outputs": [
    {
     "name": "stdout",
     "output_type": "stream",
     "text": [
      "AAPL US EQUITY\n",
      "aapl us equity\n"
     ]
    }
   ],
   "source": [
    "# strings have many useful methods\n",
    "print (ticker.upper())\n",
    "print (ticker.lower())"
   ]
  },
  {
   "cell_type": "code",
   "execution_count": 12,
   "metadata": {},
   "outputs": [
    {
     "data": {
      "text/plain": [
       "'AAPL US Equity  '"
      ]
     },
     "execution_count": 12,
     "metadata": {},
     "output_type": "execute_result"
    }
   ],
   "source": [
    "ticker = 'AAPL US Equity  '\n",
    "ticker"
   ]
  },
  {
   "cell_type": "code",
   "execution_count": 13,
   "metadata": {},
   "outputs": [
    {
     "data": {
      "text/plain": [
       "'AAPL US Equity'"
      ]
     },
     "execution_count": 13,
     "metadata": {},
     "output_type": "execute_result"
    }
   ],
   "source": [
    "# strip out whitespace\n",
    "ticker=ticker.strip(' ')\n",
    "ticker"
   ]
  },
  {
   "cell_type": "code",
   "execution_count": 14,
   "metadata": {},
   "outputs": [
    {
     "data": {
      "text/plain": [
       "'AAPL JP Equity'"
      ]
     },
     "execution_count": 14,
     "metadata": {},
     "output_type": "execute_result"
    }
   ],
   "source": [
    "# replace part of a string with another string\n",
    "ticker.replace('US Equity','JP Equity')"
   ]
  },
  {
   "cell_type": "code",
   "execution_count": 15,
   "metadata": {},
   "outputs": [
    {
     "name": "stdout",
     "output_type": "stream",
     "text": [
      "['AAPL', 'US', 'Equity']\n",
      "AAPL\n",
      "US\n",
      "Equity\n"
     ]
    }
   ],
   "source": [
    "# split up a string\n",
    "tick_split = ticker.split(' ')\n",
    "print (tick_split)\n",
    "print (tick_split[0])\n",
    "print (tick_split[1])\n",
    "print (tick_split[2])"
   ]
  },
  {
   "cell_type": "code",
   "execution_count": 16,
   "metadata": {},
   "outputs": [
    {
     "name": "stdout",
     "output_type": "stream",
     "text": [
      "AAPL US Equity\n"
     ]
    }
   ],
   "source": [
    "print(' '.join(tick_split))"
   ]
  },
  {
   "cell_type": "code",
   "execution_count": 17,
   "metadata": {},
   "outputs": [
    {
     "name": "stdout",
     "output_type": "stream",
     "text": [
      "AAPL US Equity\n"
     ]
    }
   ],
   "source": [
    "# concatenation \n",
    "\n",
    "symbol = 'AAPL'\n",
    "country = 'US'\n",
    "asset = 'Equity'\n",
    "ticker = symbol + ' ' + country + ' ' + asset\n",
    "print (ticker)"
   ]
  },
  {
   "cell_type": "code",
   "execution_count": 18,
   "metadata": {},
   "outputs": [
    {
     "name": "stdout",
     "output_type": "stream",
     "text": [
      "AAPL US Equity\n"
     ]
    }
   ],
   "source": [
    "# formatting \n",
    "print (\"{} {} {}\".format(symbol,country,asset))"
   ]
  },
  {
   "cell_type": "code",
   "execution_count": 19,
   "metadata": {},
   "outputs": [
    {
     "name": "stdout",
     "output_type": "stream",
     "text": [
      "Daily Return of AAPL US Equity = 1.55 pct\n"
     ]
    }
   ],
   "source": [
    "# formatting with numbers\n",
    "print ('Daily Return of {} {} {} = {} pct'.format(symbol,country,asset,1.55))"
   ]
  },
  {
   "cell_type": "code",
   "execution_count": 20,
   "metadata": {},
   "outputs": [
    {
     "name": "stdout",
     "output_type": "stream",
     "text": [
      "Daily Return of AAPL US Equity = 1.55 pct\n"
     ]
    }
   ],
   "source": [
    "# old way\n",
    "print ('Daily Return of %s %s %s = %s pct'%(symbol,country,asset,1.55))"
   ]
  },
  {
   "cell_type": "code",
   "execution_count": 21,
   "metadata": {},
   "outputs": [
    {
     "data": {
      "text/plain": [
       "False"
      ]
     },
     "execution_count": 21,
     "metadata": {},
     "output_type": "execute_result"
    }
   ],
   "source": [
    "# tab completion\n",
    "ticker.isupper()"
   ]
  },
  {
   "cell_type": "code",
   "execution_count": 22,
   "metadata": {},
   "outputs": [
    {
     "data": {
      "text/plain": [
       "\u001b[31mSignature:\u001b[39m ticker.isupper()\n",
       "\u001b[31mDocstring:\u001b[39m\n",
       "Return True if the string is an uppercase string, False otherwise.\n",
       "\n",
       "A string is uppercase if all cased characters in the string are uppercase and\n",
       "there is at least one cased character in the string.\n",
       "\u001b[31mType:\u001b[39m      builtin_function_or_method"
      ]
     },
     "metadata": {},
     "output_type": "display_data"
    }
   ],
   "source": [
    "# help\n",
    "ticker.isupper?"
   ]
  },
  {
   "cell_type": "code",
   "execution_count": null,
   "metadata": {},
   "outputs": [],
   "source": []
  }
 ],
 "metadata": {
  "kernelspec": {
   "display_name": "Python 3 (ipykernel)",
   "language": "python",
   "name": "python3"
  },
  "language_info": {
   "codemirror_mode": {
    "name": "ipython",
    "version": 3
   },
   "file_extension": ".py",
   "mimetype": "text/x-python",
   "name": "python",
   "nbconvert_exporter": "python",
   "pygments_lexer": "ipython3",
   "version": "3.12.10"
  }
 },
 "nbformat": 4,
 "nbformat_minor": 4
}
