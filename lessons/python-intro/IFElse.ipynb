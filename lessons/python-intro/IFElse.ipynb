{
 "cells": [
  {
   "cell_type": "markdown",
   "metadata": {},
   "source": [
    "# If / Else Statements"
   ]
  },
  {
   "cell_type": "code",
   "execution_count": 1,
   "metadata": {},
   "outputs": [
    {
     "name": "stdout",
     "output_type": "stream",
     "text": [
      "x is less than or equal to 5\n"
     ]
    }
   ],
   "source": [
    "# basic syntax\n",
    "x=1\n",
    "if (x > 5):\n",
    "    print (\"x is greater than 5\")\n",
    "else:\n",
    "    print (\"x is less than or equal to 5\")"
   ]
  },
  {
   "cell_type": "code",
   "execution_count": 2,
   "metadata": {},
   "outputs": [
    {
     "ename": "IndentationError",
     "evalue": "expected an indented block after 'if' statement on line 2 (1811028926.py, line 3)",
     "output_type": "error",
     "traceback": [
      "  \u001b[36mCell\u001b[39m\u001b[36m \u001b[39m\u001b[32mIn[2]\u001b[39m\u001b[32m, line 3\u001b[39m\n\u001b[31m    \u001b[39m\u001b[31mprint (\"x is greater than 5\")\u001b[39m\n    ^\n\u001b[31mIndentationError\u001b[39m\u001b[31m:\u001b[39m expected an indented block after 'if' statement on line 2\n"
     ]
    }
   ],
   "source": [
    "# indent with tab after if and else\n",
    "if (x > 5):\n",
    "print (\"x is greater than 5\")\n",
    "else:\n",
    "print (\"x is less than or equal to 5\")"
   ]
  },
  {
   "cell_type": "code",
   "execution_count": 3,
   "metadata": {},
   "outputs": [
    {
     "name": "stdout",
     "output_type": "stream",
     "text": [
      "Ticker is not a US Equity\n"
     ]
    }
   ],
   "source": [
    "# if statement can have anything that evaluates to a boolean after it > refer to boolean section\n",
    "#ticker='AAPL US Equity' \n",
    "ticker = 'SPX Index'\n",
    "if 'US Equity' in ticker:\n",
    "    print (\"Ticker is US Equity\")\n",
    "else:\n",
    "    print (\"Ticker is not a US Equity\")    "
   ]
  },
  {
   "cell_type": "code",
   "execution_count": 4,
   "metadata": {},
   "outputs": [
    {
     "name": "stdout",
     "output_type": "stream",
     "text": [
      "Ticker is not Japanese, German or American\n"
     ]
    }
   ],
   "source": [
    "# elif statements\n",
    "\n",
    "#ticker = 'AAPL US Equity'\n",
    "#ticker='1U1 GR Equity'\n",
    "ticker='SPX Index'\n",
    "\n",
    "if 'US Equity' in ticker:\n",
    "    print ('Ticker is American')\n",
    "\n",
    "elif 'JP Equity' in ticker:\n",
    "    print ('Ticker is Japanese')\n",
    "\n",
    "elif 'GR Equity' in ticker:\n",
    "    print ('Ticker is German')\n",
    "    \n",
    "else:\n",
    "    print ('Ticker is not Japanese, German or American')\n",
    "    "
   ]
  },
  {
   "cell_type": "code",
   "execution_count": null,
   "metadata": {},
   "outputs": [],
   "source": []
  }
 ],
 "metadata": {
  "kernelspec": {
   "display_name": "Python 3 (ipykernel)",
   "language": "python",
   "name": "python3"
  },
  "language_info": {
   "codemirror_mode": {
    "name": "ipython",
    "version": 3
   },
   "file_extension": ".py",
   "mimetype": "text/x-python",
   "name": "python",
   "nbconvert_exporter": "python",
   "pygments_lexer": "ipython3",
   "version": "3.12.10"
  }
 },
 "nbformat": 4,
 "nbformat_minor": 4
}
