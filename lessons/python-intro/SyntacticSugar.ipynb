{
 "cells": [
  {
   "cell_type": "markdown",
   "metadata": {},
   "source": [
    "# Some Syntactic Sugar"
   ]
  },
  {
   "cell_type": "code",
   "execution_count": 1,
   "metadata": {},
   "outputs": [
    {
     "name": "stdout",
     "output_type": "stream",
     "text": [
      "4\n",
      "8\n"
     ]
    }
   ],
   "source": [
    "# define a function in one line with lambda\n",
    "multiply = lambda x,y: x * y\n",
    "\n",
    "print (multiply(2,2))\n",
    "print (multiply(2,4))"
   ]
  },
  {
   "cell_type": "code",
   "execution_count": 2,
   "metadata": {},
   "outputs": [
    {
     "name": "stdout",
     "output_type": "stream",
     "text": [
      ">2\n"
     ]
    }
   ],
   "source": [
    "# if/else in one line \n",
    "x=3\n",
    "print (\">2\") if x>2 else print (\"<2\")"
   ]
  },
  {
   "cell_type": "code",
   "execution_count": 3,
   "metadata": {},
   "outputs": [
    {
     "name": "stdout",
     "output_type": "stream",
     "text": [
      "['AAPL', 'WMT']\n"
     ]
    }
   ],
   "source": [
    "# list comprehension: loop through and modify a list in one line\n",
    "# newlist = [expression for item in iterable if condition == True]\n",
    "\n",
    "tickers = ['AAPL US Equity','WMT US Equity','1U1 GR Equity']\n",
    "us_tickers=[x.split(' ')[0] for x in tickers if 'US Equity' in x]\n",
    "print(us_tickers)"
   ]
  },
  {
   "cell_type": "code",
   "execution_count": 4,
   "metadata": {},
   "outputs": [
    {
     "name": "stdout",
     "output_type": "stream",
     "text": [
      "{'AAPL': 'US', 'WMT': 'US', '1U1': 'GR'}\n"
     ]
    }
   ],
   "source": [
    "# create a dictionary in one line\n",
    "ctry_map = {x.split(' ')[0]: x.split(' ')[1] for x in tickers}\n",
    "print (ctry_map)"
   ]
  },
  {
   "cell_type": "code",
   "execution_count": null,
   "metadata": {},
   "outputs": [],
   "source": []
  }
 ],
 "metadata": {
  "kernelspec": {
   "display_name": "Python 3 (ipykernel)",
   "language": "python",
   "name": "python3"
  },
  "language_info": {
   "codemirror_mode": {
    "name": "ipython",
    "version": 3
   },
   "file_extension": ".py",
   "mimetype": "text/x-python",
   "name": "python",
   "nbconvert_exporter": "python",
   "pygments_lexer": "ipython3",
   "version": "3.12.9"
  }
 },
 "nbformat": 4,
 "nbformat_minor": 4
}
