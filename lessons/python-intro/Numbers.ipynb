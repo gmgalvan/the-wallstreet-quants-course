{
 "cells": [
  {
   "cell_type": "markdown",
   "metadata": {},
   "source": [
    "# Numbers"
   ]
  },
  {
   "cell_type": "code",
   "execution_count": 1,
   "metadata": {},
   "outputs": [],
   "source": [
    "# 2 main numeric data types: integers and floats\n",
    "num_int = 5\n",
    "num_float = 2.5"
   ]
  },
  {
   "cell_type": "code",
   "execution_count": 2,
   "metadata": {},
   "outputs": [
    {
     "name": "stdout",
     "output_type": "stream",
     "text": [
      "<class 'int'>\n",
      "<class 'float'>\n"
     ]
    }
   ],
   "source": [
    "# use type() to get the data type\n",
    "# notice python automatically infers the data type - no need to declare it separately\n",
    "print(type(num_int))\n",
    "print(type(num_float))"
   ]
  },
  {
   "cell_type": "code",
   "execution_count": 3,
   "metadata": {},
   "outputs": [],
   "source": [
    "x = 2\n",
    "y = 8\n",
    "\n",
    "add = x + y\n",
    "subtract =  x - y\n",
    "multiply = x * y \n",
    "divide = x / y \n",
    "modulus = x % y\n",
    "exponent = x ** y\n",
    "floor_div = x // y"
   ]
  },
  {
   "cell_type": "code",
   "execution_count": 4,
   "metadata": {},
   "outputs": [
    {
     "name": "stdout",
     "output_type": "stream",
     "text": [
      "10\n",
      "-6\n",
      "16\n",
      "0.25\n",
      "2\n",
      "256\n",
      "0\n"
     ]
    }
   ],
   "source": [
    "print (add)\n",
    "print (subtract)\n",
    "print (multiply)\n",
    "print (divide)\n",
    "print (modulus)\n",
    "print (exponent)\n",
    "print (floor_div)"
   ]
  },
  {
   "cell_type": "code",
   "execution_count": null,
   "metadata": {},
   "outputs": [],
   "source": []
  }
 ],
 "metadata": {
  "kernelspec": {
   "display_name": "Python 3 (ipykernel)",
   "language": "python",
   "name": "python3"
  },
  "language_info": {
   "codemirror_mode": {
    "name": "ipython",
    "version": 3
   },
   "file_extension": ".py",
   "mimetype": "text/x-python",
   "name": "python",
   "nbconvert_exporter": "python",
   "pygments_lexer": "ipython3",
   "version": "3.12.9"
  }
 },
 "nbformat": 4,
 "nbformat_minor": 4
}
